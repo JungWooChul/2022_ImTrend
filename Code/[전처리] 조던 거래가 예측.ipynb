{
 "cells": [
  {
   "cell_type": "code",
   "execution_count": 1,
   "id": "b3ab2615",
   "metadata": {},
   "outputs": [],
   "source": [
    "import pandas as pd\n",
    "import numpy as np\n",
    "import matplotlib.pyplot as plt\n",
    "import seaborn as sns\n",
    "from tqdm import tqdm\n",
    "from sklearn.linear_model import LinearRegression, ElasticNet, Lasso, Ridge\n",
    "from sklearn.tree import DecisionTreeRegressor\n",
    "from sklearn.ensemble import RandomForestRegressor\n",
    "from sklearn.preprocessing import  LabelEncoder\n",
    "from sklearn.model_selection import TimeSeriesSplit\n",
    "from sklearn.metrics import mean_squared_error\n",
    "import xgboost as xgb\n",
    "import lightgbm as lgb\n",
    "import re\n",
    "import optuna\n",
    "from optuna.integration import XGBoostPruningCallback\n",
    "sns.set_theme(style=\"darkgrid\")"
   ]
  },
  {
   "cell_type": "code",
   "execution_count": 2,
   "id": "38ac1ee5",
   "metadata": {
    "scrolled": true
   },
   "outputs": [
    {
     "data": {
      "text/html": [
       "<div>\n",
       "<style scoped>\n",
       "    .dataframe tbody tr th:only-of-type {\n",
       "        vertical-align: middle;\n",
       "    }\n",
       "\n",
       "    .dataframe tbody tr th {\n",
       "        vertical-align: top;\n",
       "    }\n",
       "\n",
       "    .dataframe thead th {\n",
       "        text-align: right;\n",
       "    }\n",
       "</style>\n",
       "<table border=\"1\" class=\"dataframe\">\n",
       "  <thead>\n",
       "    <tr style=\"text-align: right;\">\n",
       "      <th></th>\n",
       "      <th>index</th>\n",
       "      <th>사이즈</th>\n",
       "      <th>거래가</th>\n",
       "      <th>거래일</th>\n",
       "      <th>제품한글명</th>\n",
       "      <th>모델번호</th>\n",
       "      <th>출시일</th>\n",
       "      <th>컬러</th>\n",
       "      <th>발매가</th>\n",
       "    </tr>\n",
       "  </thead>\n",
       "  <tbody>\n",
       "    <tr>\n",
       "      <th>0</th>\n",
       "      <td>804.0</td>\n",
       "      <td>275</td>\n",
       "      <td>623,000원</td>\n",
       "      <td>22/07/28</td>\n",
       "      <td>조던 1 레트로 하이 OG 블랙 모카</td>\n",
       "      <td>555088-105</td>\n",
       "      <td>20/11/13</td>\n",
       "      <td>SAIL/DARK MOCHA-BLACK-BLACK</td>\n",
       "      <td>199,000원</td>\n",
       "    </tr>\n",
       "    <tr>\n",
       "      <th>1</th>\n",
       "      <td>804.0</td>\n",
       "      <td>265</td>\n",
       "      <td>620,000원</td>\n",
       "      <td>22/07/28</td>\n",
       "      <td>조던 1 레트로 하이 OG 블랙 모카</td>\n",
       "      <td>555088-105</td>\n",
       "      <td>20/11/13</td>\n",
       "      <td>SAIL/DARK MOCHA-BLACK-BLACK</td>\n",
       "      <td>199,000원</td>\n",
       "    </tr>\n",
       "    <tr>\n",
       "      <th>2</th>\n",
       "      <td>804.0</td>\n",
       "      <td>285</td>\n",
       "      <td>602,000원</td>\n",
       "      <td>22/07/28</td>\n",
       "      <td>조던 1 레트로 하이 OG 블랙 모카</td>\n",
       "      <td>555088-105</td>\n",
       "      <td>20/11/13</td>\n",
       "      <td>SAIL/DARK MOCHA-BLACK-BLACK</td>\n",
       "      <td>199,000원</td>\n",
       "    </tr>\n",
       "    <tr>\n",
       "      <th>3</th>\n",
       "      <td>804.0</td>\n",
       "      <td>270</td>\n",
       "      <td>760,000원</td>\n",
       "      <td>22/07/28</td>\n",
       "      <td>조던 1 레트로 하이 OG 블랙 모카</td>\n",
       "      <td>555088-105</td>\n",
       "      <td>20/11/13</td>\n",
       "      <td>SAIL/DARK MOCHA-BLACK-BLACK</td>\n",
       "      <td>199,000원</td>\n",
       "    </tr>\n",
       "    <tr>\n",
       "      <th>4</th>\n",
       "      <td>804.0</td>\n",
       "      <td>265</td>\n",
       "      <td>610,000원</td>\n",
       "      <td>22/07/28</td>\n",
       "      <td>조던 1 레트로 하이 OG 블랙 모카</td>\n",
       "      <td>555088-105</td>\n",
       "      <td>20/11/13</td>\n",
       "      <td>SAIL/DARK MOCHA-BLACK-BLACK</td>\n",
       "      <td>199,000원</td>\n",
       "    </tr>\n",
       "    <tr>\n",
       "      <th>...</th>\n",
       "      <td>...</td>\n",
       "      <td>...</td>\n",
       "      <td>...</td>\n",
       "      <td>...</td>\n",
       "      <td>...</td>\n",
       "      <td>...</td>\n",
       "      <td>...</td>\n",
       "      <td>...</td>\n",
       "      <td>...</td>\n",
       "    </tr>\n",
       "    <tr>\n",
       "      <th>185842</th>\n",
       "      <td>4545.0</td>\n",
       "      <td>270</td>\n",
       "      <td>550,000원</td>\n",
       "      <td>21/04/27</td>\n",
       "      <td>조던 1 레트로 하이 이퀄리티 BHM 2018</td>\n",
       "      <td>AQ7474-001</td>\n",
       "      <td>18/01/16</td>\n",
       "      <td>BLACK/BLACK-WHITE-METALLIC GOLD</td>\n",
       "      <td>$145 (약 189,300원)</td>\n",
       "    </tr>\n",
       "    <tr>\n",
       "      <th>185843</th>\n",
       "      <td>4545.0</td>\n",
       "      <td>275</td>\n",
       "      <td>620,000원</td>\n",
       "      <td>21/04/22</td>\n",
       "      <td>조던 1 레트로 하이 이퀄리티 BHM 2018</td>\n",
       "      <td>AQ7474-001</td>\n",
       "      <td>18/01/16</td>\n",
       "      <td>BLACK/BLACK-WHITE-METALLIC GOLD</td>\n",
       "      <td>$145 (약 189,300원)</td>\n",
       "    </tr>\n",
       "    <tr>\n",
       "      <th>185844</th>\n",
       "      <td>4545.0</td>\n",
       "      <td>250</td>\n",
       "      <td>440,000원</td>\n",
       "      <td>21/04/17</td>\n",
       "      <td>조던 1 레트로 하이 이퀄리티 BHM 2018</td>\n",
       "      <td>AQ7474-001</td>\n",
       "      <td>18/01/16</td>\n",
       "      <td>BLACK/BLACK-WHITE-METALLIC GOLD</td>\n",
       "      <td>$145 (약 189,300원)</td>\n",
       "    </tr>\n",
       "    <tr>\n",
       "      <th>185845</th>\n",
       "      <td>4545.0</td>\n",
       "      <td>250</td>\n",
       "      <td>400,000원</td>\n",
       "      <td>21/03/06</td>\n",
       "      <td>조던 1 레트로 하이 이퀄리티 BHM 2018</td>\n",
       "      <td>AQ7474-001</td>\n",
       "      <td>18/01/16</td>\n",
       "      <td>BLACK/BLACK-WHITE-METALLIC GOLD</td>\n",
       "      <td>$145 (약 189,300원)</td>\n",
       "    </tr>\n",
       "    <tr>\n",
       "      <th>185846</th>\n",
       "      <td>4545.0</td>\n",
       "      <td>270</td>\n",
       "      <td>500,000원</td>\n",
       "      <td>21/01/17</td>\n",
       "      <td>조던 1 레트로 하이 이퀄리티 BHM 2018</td>\n",
       "      <td>AQ7474-001</td>\n",
       "      <td>18/01/16</td>\n",
       "      <td>BLACK/BLACK-WHITE-METALLIC GOLD</td>\n",
       "      <td>$145 (약 189,300원)</td>\n",
       "    </tr>\n",
       "  </tbody>\n",
       "</table>\n",
       "<p>185847 rows × 9 columns</p>\n",
       "</div>"
      ],
      "text/plain": [
       "         index  사이즈       거래가       거래일                      제품한글명  \\\n",
       "0        804.0  275  623,000원  22/07/28       조던 1 레트로 하이 OG 블랙 모카   \n",
       "1        804.0  265  620,000원  22/07/28       조던 1 레트로 하이 OG 블랙 모카   \n",
       "2        804.0  285  602,000원  22/07/28       조던 1 레트로 하이 OG 블랙 모카   \n",
       "3        804.0  270  760,000원  22/07/28       조던 1 레트로 하이 OG 블랙 모카   \n",
       "4        804.0  265  610,000원  22/07/28       조던 1 레트로 하이 OG 블랙 모카   \n",
       "...        ...  ...       ...       ...                        ...   \n",
       "185842  4545.0  270  550,000원  21/04/27  조던 1 레트로 하이 이퀄리티 BHM 2018   \n",
       "185843  4545.0  275  620,000원  21/04/22  조던 1 레트로 하이 이퀄리티 BHM 2018   \n",
       "185844  4545.0  250  440,000원  21/04/17  조던 1 레트로 하이 이퀄리티 BHM 2018   \n",
       "185845  4545.0  250  400,000원  21/03/06  조던 1 레트로 하이 이퀄리티 BHM 2018   \n",
       "185846  4545.0  270  500,000원  21/01/17  조던 1 레트로 하이 이퀄리티 BHM 2018   \n",
       "\n",
       "              모델번호       출시일                               컬러  \\\n",
       "0       555088-105  20/11/13      SAIL/DARK MOCHA-BLACK-BLACK   \n",
       "1       555088-105  20/11/13      SAIL/DARK MOCHA-BLACK-BLACK   \n",
       "2       555088-105  20/11/13      SAIL/DARK MOCHA-BLACK-BLACK   \n",
       "3       555088-105  20/11/13      SAIL/DARK MOCHA-BLACK-BLACK   \n",
       "4       555088-105  20/11/13      SAIL/DARK MOCHA-BLACK-BLACK   \n",
       "...            ...       ...                              ...   \n",
       "185842  AQ7474-001  18/01/16  BLACK/BLACK-WHITE-METALLIC GOLD   \n",
       "185843  AQ7474-001  18/01/16  BLACK/BLACK-WHITE-METALLIC GOLD   \n",
       "185844  AQ7474-001  18/01/16  BLACK/BLACK-WHITE-METALLIC GOLD   \n",
       "185845  AQ7474-001  18/01/16  BLACK/BLACK-WHITE-METALLIC GOLD   \n",
       "185846  AQ7474-001  18/01/16  BLACK/BLACK-WHITE-METALLIC GOLD   \n",
       "\n",
       "                      발매가  \n",
       "0                199,000원  \n",
       "1                199,000원  \n",
       "2                199,000원  \n",
       "3                199,000원  \n",
       "4                199,000원  \n",
       "...                   ...  \n",
       "185842  $145 (약 189,300원)  \n",
       "185843  $145 (약 189,300원)  \n",
       "185844  $145 (약 189,300원)  \n",
       "185845  $145 (약 189,300원)  \n",
       "185846  $145 (약 189,300원)  \n",
       "\n",
       "[185847 rows x 9 columns]"
      ]
     },
     "execution_count": 2,
     "metadata": {},
     "output_type": "execute_result"
    }
   ],
   "source": [
    "Jordan_df_root=pd.read_csv('Data/크림_조던_제품거래량_최종.csv')\n",
    "\n",
    "Jordan_df_tmp=pd.DataFrame(Jordan_df_root)\n",
    "Jordan_df_tmp"
   ]
  },
  {
   "cell_type": "code",
   "execution_count": 3,
   "id": "4f6d0018",
   "metadata": {},
   "outputs": [],
   "source": [
    "Jordan_df_tmp['발매가'].fillna(0)\n",
    "Jordan_df_tmp['발매가'] = Jordan_df_tmp['발매가'].astype(str)"
   ]
  },
  {
   "cell_type": "code",
   "execution_count": 4,
   "id": "2b1cd2e5",
   "metadata": {},
   "outputs": [],
   "source": [
    "#발매가 모두 원화로 처리\n",
    "for idx,money in enumerate(Jordan_df_tmp['발매가']):\n",
    "    if '(' in money:\n",
    "        Jordan_df_tmp.loc[idx,'발매가'] = re.search(r'[0-9]+,[0-9]+원',money).group()\n",
    "    else:\n",
    "        pass"
   ]
  },
  {
   "cell_type": "code",
   "execution_count": 5,
   "id": "4b6764a4",
   "metadata": {},
   "outputs": [],
   "source": [
    "# \"235(5Y·W)\"와 같은 값 처리\n",
    "for idx,size in enumerate(Jordan_df_tmp['사이즈']):\n",
    "    if '(' in size:\n",
    "        Jordan_df_tmp.loc[idx,'사이즈'] = re.search(r'[0-9]',size).group()\n",
    "    else:\n",
    "        pass"
   ]
  },
  {
   "cell_type": "code",
   "execution_count": 6,
   "id": "80c9d65a",
   "metadata": {},
   "outputs": [],
   "source": [
    "#거래가, 발매가를 숫자형 문자열로 표현하기 위해 '원', ','제거 & nan과 '-'은 0으로 대체\n",
    "Jordan_df_tmp['거래가']=pd.DataFrame(Jordan_df_tmp['거래가'].str.replace('원',''))\n",
    "Jordan_df_tmp['거래가']=pd.DataFrame(Jordan_df_tmp['거래가'].str.replace(',',''))\n",
    "Jordan_df_tmp['발매가']=pd.DataFrame(Jordan_df_tmp['발매가'].str.replace('원',''))\n",
    "Jordan_df_tmp['발매가']=pd.DataFrame(Jordan_df_tmp['발매가'].str.replace(',',''))\n",
    "Jordan_df_tmp['발매가']=pd.DataFrame(Jordan_df_tmp['발매가'].str.replace('-','0'))\n",
    "Jordan_df_tmp['발매가']=pd.DataFrame(Jordan_df_tmp['발매가'].str.replace('nan','0'))"
   ]
  },
  {
   "cell_type": "code",
   "execution_count": 7,
   "id": "aa0d8d4d",
   "metadata": {},
   "outputs": [],
   "source": [
    "#출시일, 거래일도 숫자형 문자열로 표시\n",
    "Jordan_df_tmp['출시일']=pd.DataFrame(Jordan_df_tmp['출시일'].str.replace('/',''))\n",
    "Jordan_df_tmp['거래일']=pd.DataFrame(Jordan_df_tmp['거래일'].str.replace('/',''))"
   ]
  },
  {
   "cell_type": "code",
   "execution_count": 8,
   "id": "0a550ea2",
   "metadata": {
    "scrolled": true
   },
   "outputs": [],
   "source": [
    "# df.groupby(그룹이되는컬럼)[계산하고 싶은 컬럼].집계함수()\n",
    "#제품별 거래량 파악\n",
    "Jordan_df_tmp['총거래량']=0\n",
    "Jordan_df_tmp.groupby('제품한글명')['총거래량'].count()\n",
    "Jordan_df_tmp=pd.merge(Jordan_df_tmp,Jordan_df_tmp.groupby('제품한글명')['총거래량'].count(),on='제품한글명',how='left').drop('총거래량_x',axis=1).rename(columns={'총거래량_y':'총거래량'})"
   ]
  },
  {
   "cell_type": "code",
   "execution_count": 9,
   "id": "9cc04a08",
   "metadata": {},
   "outputs": [],
   "source": [
    "#해당 컬럼값들 숫자형으로 변환\n",
    "Jordan_df_tmp['거래가'] = pd.to_numeric(Jordan_df_tmp['거래가'])\n",
    "Jordan_df_tmp['발매가'] = pd.to_numeric(Jordan_df_tmp['발매가'])\n",
    "Jordan_df_tmp['거래일'] = pd.to_numeric(Jordan_df_tmp['거래일'])\n",
    "Jordan_df_tmp['사이즈'] = pd.to_numeric(Jordan_df_tmp['사이즈'])"
   ]
  },
  {
   "cell_type": "code",
   "execution_count": 10,
   "id": "adca8477",
   "metadata": {},
   "outputs": [
    {
     "name": "stderr",
     "output_type": "stream",
     "text": [
      " 65%|██████████████████████████████████████████████▎                        | 121068/185847 [00:01<00:00, 73110.89it/s]C:\\Users\\gi257\\AppData\\Local\\Temp/ipykernel_2756/3798536552.py:7: SettingWithCopyWarning: \n",
      "A value is trying to be set on a copy of a slice from a DataFrame\n",
      "\n",
      "See the caveats in the documentation: https://pandas.pydata.org/pandas-docs/stable/user_guide/indexing.html#returning-a-view-versus-a-copy\n",
      "  Jordan_df_tmp['발매가'][i] = product_price.loc[product_name]\n",
      "100%|███████████████████████████████████████████████████████████████████████| 185847/185847 [00:07<00:00, 25304.58it/s]\n"
     ]
    }
   ],
   "source": [
    "#발매가가 없는 제품은 제품 거래가의 평균으로 대체\n",
    "product_price = Jordan_df_tmp.groupby('제품한글명')['거래가'].mean()\n",
    "\n",
    "for i in tqdm(range(len(Jordan_df_tmp))):\n",
    "    if Jordan_df_tmp['발매가'][i] == 0:\n",
    "        product_name=Jordan_df_tmp['제품한글명'][i]\n",
    "        Jordan_df_tmp['발매가'][i] = product_price.loc[product_name]"
   ]
  },
  {
   "cell_type": "code",
   "execution_count": 11,
   "id": "761b0cef",
   "metadata": {},
   "outputs": [
    {
     "name": "stderr",
     "output_type": "stream",
     "text": [
      "  8%|█████▉                                                                  | 15191/185847 [00:00<00:02, 78535.43it/s]C:\\Users\\gi257\\AppData\\Local\\Temp/ipykernel_2756/770170754.py:4: SettingWithCopyWarning: \n",
      "A value is trying to be set on a copy of a slice from a DataFrame\n",
      "\n",
      "See the caveats in the documentation: https://pandas.pydata.org/pandas-docs/stable/user_guide/indexing.html#returning-a-view-versus-a-copy\n",
      "  Jordan_df_tmp['출시일'][i] = sorted(Jordan_df_tmp[Jordan_df_tmp['제품한글명']==Jordan_df_tmp['제품한글명'][i]]['거래일'])[0]\n",
      "100%|████████████████████████████████████████████████████████████████████████| 185847/185847 [01:14<00:00, 2510.53it/s]\n"
     ]
    }
   ],
   "source": [
    "#출시일이 없는 제품은 처음 이뤄진 거래일로 대체\n",
    "for i in tqdm(range(len(Jordan_df_tmp))):\n",
    "    if Jordan_df_tmp['출시일'][i] == '-':\n",
    "        Jordan_df_tmp['출시일'][i] = sorted(Jordan_df_tmp[Jordan_df_tmp['제품한글명']==Jordan_df_tmp['제품한글명'][i]]['거래일'])[0]\n",
    "Jordan_df_tmp['출시일'] = pd.to_numeric(Jordan_df_tmp['출시일'])"
   ]
  },
  {
   "cell_type": "code",
   "execution_count": 12,
   "id": "cd353997",
   "metadata": {
    "scrolled": false
   },
   "outputs": [
    {
     "name": "stderr",
     "output_type": "stream",
     "text": [
      "  0%|                                                                                       | 0/185847 [00:00<?, ?it/s]C:\\Users\\gi257\\AppData\\Local\\Temp/ipykernel_2756/1749332734.py:6: SettingWithCopyWarning: \n",
      "A value is trying to be set on a copy of a slice from a DataFrame\n",
      "\n",
      "See the caveats in the documentation: https://pandas.pydata.org/pandas-docs/stable/user_guide/indexing.html#returning-a-view-versus-a-copy\n",
      "  Jordan_df_tmp['사이즈'][i] = random.choice(rand_size)\n",
      " 22%|████████████████▌                                                         | 41680/185847 [03:09<10:56, 219.74it/s]\n"
     ]
    },
    {
     "ename": "KeyboardInterrupt",
     "evalue": "",
     "output_type": "error",
     "traceback": [
      "\u001b[1;31m---------------------------------------------------------------------------\u001b[0m",
      "\u001b[1;31mFileNotFoundError\u001b[0m                         Traceback (most recent call last)",
      "\u001b[1;32m~\\.anaconda\\lib\\linecache.py\u001b[0m in \u001b[0;36mcheckcache\u001b[1;34m(filename)\u001b[0m\n\u001b[0;32m     71\u001b[0m         \u001b[1;32mtry\u001b[0m\u001b[1;33m:\u001b[0m\u001b[1;33m\u001b[0m\u001b[1;33m\u001b[0m\u001b[0m\n\u001b[1;32m---> 72\u001b[1;33m             \u001b[0mstat\u001b[0m \u001b[1;33m=\u001b[0m \u001b[0mos\u001b[0m\u001b[1;33m.\u001b[0m\u001b[0mstat\u001b[0m\u001b[1;33m(\u001b[0m\u001b[0mfullname\u001b[0m\u001b[1;33m)\u001b[0m\u001b[1;33m\u001b[0m\u001b[1;33m\u001b[0m\u001b[0m\n\u001b[0m\u001b[0;32m     73\u001b[0m         \u001b[1;32mexcept\u001b[0m \u001b[0mOSError\u001b[0m\u001b[1;33m:\u001b[0m\u001b[1;33m\u001b[0m\u001b[1;33m\u001b[0m\u001b[0m\n",
      "\u001b[1;31mFileNotFoundError\u001b[0m: [WinError 3] 지정된 경로를 찾을 수 없습니다: 'C:\\\\Users\\\\gi257\\\\AppData\\\\Local\\\\Temp/ipykernel_2756/1749332734.py'",
      "\nDuring handling of the above exception, another exception occurred:\n",
      "\u001b[1;31mKeyboardInterrupt\u001b[0m                         Traceback (most recent call last)",
      "\u001b[1;32m~\\AppData\\Local\\Temp/ipykernel_2756/1749332734.py\u001b[0m in \u001b[0;36m<module>\u001b[1;34m\u001b[0m\n\u001b[0;32m      4\u001b[0m \u001b[1;32mfor\u001b[0m \u001b[0mi\u001b[0m \u001b[1;32min\u001b[0m \u001b[0mtqdm\u001b[0m\u001b[1;33m(\u001b[0m\u001b[0mrange\u001b[0m\u001b[1;33m(\u001b[0m\u001b[0mlen\u001b[0m\u001b[1;33m(\u001b[0m\u001b[0mJordan_df_tmp\u001b[0m\u001b[1;33m)\u001b[0m\u001b[1;33m)\u001b[0m\u001b[1;33m)\u001b[0m\u001b[1;33m:\u001b[0m\u001b[1;33m\u001b[0m\u001b[1;33m\u001b[0m\u001b[0m\n\u001b[0;32m      5\u001b[0m     \u001b[1;32mif\u001b[0m \u001b[0mJordan_df_tmp\u001b[0m\u001b[1;33m[\u001b[0m\u001b[1;34m'사이즈'\u001b[0m\u001b[1;33m]\u001b[0m\u001b[1;33m[\u001b[0m\u001b[0mi\u001b[0m\u001b[1;33m]\u001b[0m \u001b[1;33m==\u001b[0m \u001b[1;36m2\u001b[0m\u001b[1;33m:\u001b[0m\u001b[1;33m\u001b[0m\u001b[1;33m\u001b[0m\u001b[0m\n\u001b[1;32m----> 6\u001b[1;33m         \u001b[0mJordan_df_tmp\u001b[0m\u001b[1;33m[\u001b[0m\u001b[1;34m'사이즈'\u001b[0m\u001b[1;33m]\u001b[0m\u001b[1;33m[\u001b[0m\u001b[0mi\u001b[0m\u001b[1;33m]\u001b[0m \u001b[1;33m=\u001b[0m \u001b[0mrandom\u001b[0m\u001b[1;33m.\u001b[0m\u001b[0mchoice\u001b[0m\u001b[1;33m(\u001b[0m\u001b[0mrand_size\u001b[0m\u001b[1;33m)\u001b[0m\u001b[1;33m\u001b[0m\u001b[1;33m\u001b[0m\u001b[0m\n\u001b[0m",
      "\u001b[1;32m~\\.anaconda\\lib\\site-packages\\pandas\\core\\series.py\u001b[0m in \u001b[0;36m__setitem__\u001b[1;34m(self, key, value)\u001b[0m\n\u001b[0;32m   1073\u001b[0m         \u001b[0mcheck_deprecated_indexers\u001b[0m\u001b[1;33m(\u001b[0m\u001b[0mkey\u001b[0m\u001b[1;33m)\u001b[0m\u001b[1;33m\u001b[0m\u001b[1;33m\u001b[0m\u001b[0m\n\u001b[0;32m   1074\u001b[0m         \u001b[0mkey\u001b[0m \u001b[1;33m=\u001b[0m \u001b[0mcom\u001b[0m\u001b[1;33m.\u001b[0m\u001b[0mapply_if_callable\u001b[0m\u001b[1;33m(\u001b[0m\u001b[0mkey\u001b[0m\u001b[1;33m,\u001b[0m \u001b[0mself\u001b[0m\u001b[1;33m)\u001b[0m\u001b[1;33m\u001b[0m\u001b[1;33m\u001b[0m\u001b[0m\n\u001b[1;32m-> 1075\u001b[1;33m         \u001b[0mcacher_needs_updating\u001b[0m \u001b[1;33m=\u001b[0m \u001b[0mself\u001b[0m\u001b[1;33m.\u001b[0m\u001b[0m_check_is_chained_assignment_possible\u001b[0m\u001b[1;33m(\u001b[0m\u001b[1;33m)\u001b[0m\u001b[1;33m\u001b[0m\u001b[1;33m\u001b[0m\u001b[0m\n\u001b[0m\u001b[0;32m   1076\u001b[0m \u001b[1;33m\u001b[0m\u001b[0m\n\u001b[0;32m   1077\u001b[0m         \u001b[1;32mif\u001b[0m \u001b[0mkey\u001b[0m \u001b[1;32mis\u001b[0m \u001b[0mEllipsis\u001b[0m\u001b[1;33m:\u001b[0m\u001b[1;33m\u001b[0m\u001b[1;33m\u001b[0m\u001b[0m\n",
      "\u001b[1;32m~\\.anaconda\\lib\\site-packages\\pandas\\core\\series.py\u001b[0m in \u001b[0;36m_check_is_chained_assignment_possible\u001b[1;34m(self)\u001b[0m\n\u001b[0;32m   1254\u001b[0m             \u001b[0mref\u001b[0m \u001b[1;33m=\u001b[0m \u001b[0mself\u001b[0m\u001b[1;33m.\u001b[0m\u001b[0m_get_cacher\u001b[0m\u001b[1;33m(\u001b[0m\u001b[1;33m)\u001b[0m\u001b[1;33m\u001b[0m\u001b[1;33m\u001b[0m\u001b[0m\n\u001b[0;32m   1255\u001b[0m             \u001b[1;32mif\u001b[0m \u001b[0mref\u001b[0m \u001b[1;32mis\u001b[0m \u001b[1;32mnot\u001b[0m \u001b[1;32mNone\u001b[0m \u001b[1;32mand\u001b[0m \u001b[0mref\u001b[0m\u001b[1;33m.\u001b[0m\u001b[0m_is_mixed_type\u001b[0m\u001b[1;33m:\u001b[0m\u001b[1;33m\u001b[0m\u001b[1;33m\u001b[0m\u001b[0m\n\u001b[1;32m-> 1256\u001b[1;33m                 \u001b[0mself\u001b[0m\u001b[1;33m.\u001b[0m\u001b[0m_check_setitem_copy\u001b[0m\u001b[1;33m(\u001b[0m\u001b[0mt\u001b[0m\u001b[1;33m=\u001b[0m\u001b[1;34m\"referent\"\u001b[0m\u001b[1;33m,\u001b[0m \u001b[0mforce\u001b[0m\u001b[1;33m=\u001b[0m\u001b[1;32mTrue\u001b[0m\u001b[1;33m)\u001b[0m\u001b[1;33m\u001b[0m\u001b[1;33m\u001b[0m\u001b[0m\n\u001b[0m\u001b[0;32m   1257\u001b[0m             \u001b[1;32mreturn\u001b[0m \u001b[1;32mTrue\u001b[0m\u001b[1;33m\u001b[0m\u001b[1;33m\u001b[0m\u001b[0m\n\u001b[0;32m   1258\u001b[0m         \u001b[1;32mreturn\u001b[0m \u001b[0msuper\u001b[0m\u001b[1;33m(\u001b[0m\u001b[1;33m)\u001b[0m\u001b[1;33m.\u001b[0m\u001b[0m_check_is_chained_assignment_possible\u001b[0m\u001b[1;33m(\u001b[0m\u001b[1;33m)\u001b[0m\u001b[1;33m\u001b[0m\u001b[1;33m\u001b[0m\u001b[0m\n",
      "\u001b[1;32m~\\.anaconda\\lib\\site-packages\\pandas\\core\\generic.py\u001b[0m in \u001b[0;36m_check_setitem_copy\u001b[1;34m(self, t, force)\u001b[0m\n\u001b[0;32m   4016\u001b[0m             \u001b[1;32mraise\u001b[0m \u001b[0mcom\u001b[0m\u001b[1;33m.\u001b[0m\u001b[0mSettingWithCopyError\u001b[0m\u001b[1;33m(\u001b[0m\u001b[0mt\u001b[0m\u001b[1;33m)\u001b[0m\u001b[1;33m\u001b[0m\u001b[1;33m\u001b[0m\u001b[0m\n\u001b[0;32m   4017\u001b[0m         \u001b[1;32melif\u001b[0m \u001b[0mvalue\u001b[0m \u001b[1;33m==\u001b[0m \u001b[1;34m\"warn\"\u001b[0m\u001b[1;33m:\u001b[0m\u001b[1;33m\u001b[0m\u001b[1;33m\u001b[0m\u001b[0m\n\u001b[1;32m-> 4018\u001b[1;33m             \u001b[0mwarnings\u001b[0m\u001b[1;33m.\u001b[0m\u001b[0mwarn\u001b[0m\u001b[1;33m(\u001b[0m\u001b[0mt\u001b[0m\u001b[1;33m,\u001b[0m \u001b[0mcom\u001b[0m\u001b[1;33m.\u001b[0m\u001b[0mSettingWithCopyWarning\u001b[0m\u001b[1;33m,\u001b[0m \u001b[0mstacklevel\u001b[0m\u001b[1;33m=\u001b[0m\u001b[0mfind_stack_level\u001b[0m\u001b[1;33m(\u001b[0m\u001b[1;33m)\u001b[0m\u001b[1;33m)\u001b[0m\u001b[1;33m\u001b[0m\u001b[1;33m\u001b[0m\u001b[0m\n\u001b[0m\u001b[0;32m   4019\u001b[0m \u001b[1;33m\u001b[0m\u001b[0m\n\u001b[0;32m   4020\u001b[0m     \u001b[1;32mdef\u001b[0m \u001b[0m__delitem__\u001b[0m\u001b[1;33m(\u001b[0m\u001b[0mself\u001b[0m\u001b[1;33m,\u001b[0m \u001b[0mkey\u001b[0m\u001b[1;33m)\u001b[0m \u001b[1;33m->\u001b[0m \u001b[1;32mNone\u001b[0m\u001b[1;33m:\u001b[0m\u001b[1;33m\u001b[0m\u001b[1;33m\u001b[0m\u001b[0m\n",
      "\u001b[1;32m~\\.anaconda\\lib\\site-packages\\pandas\\util\\_exceptions.py\u001b[0m in \u001b[0;36mfind_stack_level\u001b[1;34m()\u001b[0m\n\u001b[0;32m     30\u001b[0m     \u001b[1;33m(\u001b[0m\u001b[0mtests\u001b[0m \u001b[0mnotwithstanding\u001b[0m\u001b[1;33m)\u001b[0m\u001b[1;33m.\u001b[0m\u001b[1;33m\u001b[0m\u001b[1;33m\u001b[0m\u001b[0m\n\u001b[0;32m     31\u001b[0m     \"\"\"\n\u001b[1;32m---> 32\u001b[1;33m     \u001b[0mstack\u001b[0m \u001b[1;33m=\u001b[0m \u001b[0minspect\u001b[0m\u001b[1;33m.\u001b[0m\u001b[0mstack\u001b[0m\u001b[1;33m(\u001b[0m\u001b[1;33m)\u001b[0m\u001b[1;33m\u001b[0m\u001b[1;33m\u001b[0m\u001b[0m\n\u001b[0m\u001b[0;32m     33\u001b[0m \u001b[1;33m\u001b[0m\u001b[0m\n\u001b[0;32m     34\u001b[0m     \u001b[1;32mimport\u001b[0m \u001b[0mpandas\u001b[0m \u001b[1;32mas\u001b[0m \u001b[0mpd\u001b[0m\u001b[1;33m\u001b[0m\u001b[1;33m\u001b[0m\u001b[0m\n",
      "\u001b[1;32m~\\.anaconda\\lib\\inspect.py\u001b[0m in \u001b[0;36mstack\u001b[1;34m(context)\u001b[0m\n\u001b[0;32m   1550\u001b[0m \u001b[1;32mdef\u001b[0m \u001b[0mstack\u001b[0m\u001b[1;33m(\u001b[0m\u001b[0mcontext\u001b[0m\u001b[1;33m=\u001b[0m\u001b[1;36m1\u001b[0m\u001b[1;33m)\u001b[0m\u001b[1;33m:\u001b[0m\u001b[1;33m\u001b[0m\u001b[1;33m\u001b[0m\u001b[0m\n\u001b[0;32m   1551\u001b[0m     \u001b[1;34m\"\"\"Return a list of records for the stack above the caller's frame.\"\"\"\u001b[0m\u001b[1;33m\u001b[0m\u001b[1;33m\u001b[0m\u001b[0m\n\u001b[1;32m-> 1552\u001b[1;33m     \u001b[1;32mreturn\u001b[0m \u001b[0mgetouterframes\u001b[0m\u001b[1;33m(\u001b[0m\u001b[0msys\u001b[0m\u001b[1;33m.\u001b[0m\u001b[0m_getframe\u001b[0m\u001b[1;33m(\u001b[0m\u001b[1;36m1\u001b[0m\u001b[1;33m)\u001b[0m\u001b[1;33m,\u001b[0m \u001b[0mcontext\u001b[0m\u001b[1;33m)\u001b[0m\u001b[1;33m\u001b[0m\u001b[1;33m\u001b[0m\u001b[0m\n\u001b[0m\u001b[0;32m   1553\u001b[0m \u001b[1;33m\u001b[0m\u001b[0m\n\u001b[0;32m   1554\u001b[0m \u001b[1;32mdef\u001b[0m \u001b[0mtrace\u001b[0m\u001b[1;33m(\u001b[0m\u001b[0mcontext\u001b[0m\u001b[1;33m=\u001b[0m\u001b[1;36m1\u001b[0m\u001b[1;33m)\u001b[0m\u001b[1;33m:\u001b[0m\u001b[1;33m\u001b[0m\u001b[1;33m\u001b[0m\u001b[0m\n",
      "\u001b[1;32m~\\.anaconda\\lib\\inspect.py\u001b[0m in \u001b[0;36mgetouterframes\u001b[1;34m(frame, context)\u001b[0m\n\u001b[0;32m   1527\u001b[0m     \u001b[0mframelist\u001b[0m \u001b[1;33m=\u001b[0m \u001b[1;33m[\u001b[0m\u001b[1;33m]\u001b[0m\u001b[1;33m\u001b[0m\u001b[1;33m\u001b[0m\u001b[0m\n\u001b[0;32m   1528\u001b[0m     \u001b[1;32mwhile\u001b[0m \u001b[0mframe\u001b[0m\u001b[1;33m:\u001b[0m\u001b[1;33m\u001b[0m\u001b[1;33m\u001b[0m\u001b[0m\n\u001b[1;32m-> 1529\u001b[1;33m         \u001b[0mframeinfo\u001b[0m \u001b[1;33m=\u001b[0m \u001b[1;33m(\u001b[0m\u001b[0mframe\u001b[0m\u001b[1;33m,\u001b[0m\u001b[1;33m)\u001b[0m \u001b[1;33m+\u001b[0m \u001b[0mgetframeinfo\u001b[0m\u001b[1;33m(\u001b[0m\u001b[0mframe\u001b[0m\u001b[1;33m,\u001b[0m \u001b[0mcontext\u001b[0m\u001b[1;33m)\u001b[0m\u001b[1;33m\u001b[0m\u001b[1;33m\u001b[0m\u001b[0m\n\u001b[0m\u001b[0;32m   1530\u001b[0m         \u001b[0mframelist\u001b[0m\u001b[1;33m.\u001b[0m\u001b[0mappend\u001b[0m\u001b[1;33m(\u001b[0m\u001b[0mFrameInfo\u001b[0m\u001b[1;33m(\u001b[0m\u001b[1;33m*\u001b[0m\u001b[0mframeinfo\u001b[0m\u001b[1;33m)\u001b[0m\u001b[1;33m)\u001b[0m\u001b[1;33m\u001b[0m\u001b[1;33m\u001b[0m\u001b[0m\n\u001b[0;32m   1531\u001b[0m         \u001b[0mframe\u001b[0m \u001b[1;33m=\u001b[0m \u001b[0mframe\u001b[0m\u001b[1;33m.\u001b[0m\u001b[0mf_back\u001b[0m\u001b[1;33m\u001b[0m\u001b[1;33m\u001b[0m\u001b[0m\n",
      "\u001b[1;32m~\\.anaconda\\lib\\inspect.py\u001b[0m in \u001b[0;36mgetframeinfo\u001b[1;34m(frame, context)\u001b[0m\n\u001b[0;32m   1501\u001b[0m         \u001b[0mstart\u001b[0m \u001b[1;33m=\u001b[0m \u001b[0mlineno\u001b[0m \u001b[1;33m-\u001b[0m \u001b[1;36m1\u001b[0m \u001b[1;33m-\u001b[0m \u001b[0mcontext\u001b[0m\u001b[1;33m//\u001b[0m\u001b[1;36m2\u001b[0m\u001b[1;33m\u001b[0m\u001b[1;33m\u001b[0m\u001b[0m\n\u001b[0;32m   1502\u001b[0m         \u001b[1;32mtry\u001b[0m\u001b[1;33m:\u001b[0m\u001b[1;33m\u001b[0m\u001b[1;33m\u001b[0m\u001b[0m\n\u001b[1;32m-> 1503\u001b[1;33m             \u001b[0mlines\u001b[0m\u001b[1;33m,\u001b[0m \u001b[0mlnum\u001b[0m \u001b[1;33m=\u001b[0m \u001b[0mfindsource\u001b[0m\u001b[1;33m(\u001b[0m\u001b[0mframe\u001b[0m\u001b[1;33m)\u001b[0m\u001b[1;33m\u001b[0m\u001b[1;33m\u001b[0m\u001b[0m\n\u001b[0m\u001b[0;32m   1504\u001b[0m         \u001b[1;32mexcept\u001b[0m \u001b[0mOSError\u001b[0m\u001b[1;33m:\u001b[0m\u001b[1;33m\u001b[0m\u001b[1;33m\u001b[0m\u001b[0m\n\u001b[0;32m   1505\u001b[0m             \u001b[0mlines\u001b[0m \u001b[1;33m=\u001b[0m \u001b[0mindex\u001b[0m \u001b[1;33m=\u001b[0m \u001b[1;32mNone\u001b[0m\u001b[1;33m\u001b[0m\u001b[1;33m\u001b[0m\u001b[0m\n",
      "\u001b[1;32m~\\.anaconda\\lib\\inspect.py\u001b[0m in \u001b[0;36mfindsource\u001b[1;34m(object)\u001b[0m\n\u001b[0;32m    818\u001b[0m     \u001b[1;32mif\u001b[0m \u001b[0mfile\u001b[0m\u001b[1;33m:\u001b[0m\u001b[1;33m\u001b[0m\u001b[1;33m\u001b[0m\u001b[0m\n\u001b[0;32m    819\u001b[0m         \u001b[1;31m# Invalidate cache if needed.\u001b[0m\u001b[1;33m\u001b[0m\u001b[1;33m\u001b[0m\u001b[0m\n\u001b[1;32m--> 820\u001b[1;33m         \u001b[0mlinecache\u001b[0m\u001b[1;33m.\u001b[0m\u001b[0mcheckcache\u001b[0m\u001b[1;33m(\u001b[0m\u001b[0mfile\u001b[0m\u001b[1;33m)\u001b[0m\u001b[1;33m\u001b[0m\u001b[1;33m\u001b[0m\u001b[0m\n\u001b[0m\u001b[0;32m    821\u001b[0m     \u001b[1;32melse\u001b[0m\u001b[1;33m:\u001b[0m\u001b[1;33m\u001b[0m\u001b[1;33m\u001b[0m\u001b[0m\n\u001b[0;32m    822\u001b[0m         \u001b[0mfile\u001b[0m \u001b[1;33m=\u001b[0m \u001b[0mgetfile\u001b[0m\u001b[1;33m(\u001b[0m\u001b[0mobject\u001b[0m\u001b[1;33m)\u001b[0m\u001b[1;33m\u001b[0m\u001b[1;33m\u001b[0m\u001b[0m\n",
      "\u001b[1;32m~\\.anaconda\\lib\\site-packages\\IPython\\core\\compilerop.py\u001b[0m in \u001b[0;36mcheck_linecache_ipython\u001b[1;34m(*args)\u001b[0m\n\u001b[0;32m    183\u001b[0m     \"\"\"\n\u001b[0;32m    184\u001b[0m     \u001b[1;31m# First call the original checkcache as intended\u001b[0m\u001b[1;33m\u001b[0m\u001b[1;33m\u001b[0m\u001b[0m\n\u001b[1;32m--> 185\u001b[1;33m     \u001b[0mlinecache\u001b[0m\u001b[1;33m.\u001b[0m\u001b[0m_checkcache_ori\u001b[0m\u001b[1;33m(\u001b[0m\u001b[1;33m*\u001b[0m\u001b[0margs\u001b[0m\u001b[1;33m)\u001b[0m\u001b[1;33m\u001b[0m\u001b[1;33m\u001b[0m\u001b[0m\n\u001b[0m\u001b[0;32m    186\u001b[0m     \u001b[1;31m# Then, update back the cache with our data, so that tracebacks related\u001b[0m\u001b[1;33m\u001b[0m\u001b[1;33m\u001b[0m\u001b[0m\n\u001b[0;32m    187\u001b[0m     \u001b[1;31m# to our compiled codes can be produced.\u001b[0m\u001b[1;33m\u001b[0m\u001b[1;33m\u001b[0m\u001b[0m\n",
      "\u001b[1;32m~\\.anaconda\\lib\\linecache.py\u001b[0m in \u001b[0;36mcheckcache\u001b[1;34m(filename)\u001b[0m\n\u001b[0;32m     70\u001b[0m             \u001b[1;32mcontinue\u001b[0m   \u001b[1;31m# no-op for files loaded via a __loader__\u001b[0m\u001b[1;33m\u001b[0m\u001b[1;33m\u001b[0m\u001b[0m\n\u001b[0;32m     71\u001b[0m         \u001b[1;32mtry\u001b[0m\u001b[1;33m:\u001b[0m\u001b[1;33m\u001b[0m\u001b[1;33m\u001b[0m\u001b[0m\n\u001b[1;32m---> 72\u001b[1;33m             \u001b[0mstat\u001b[0m \u001b[1;33m=\u001b[0m \u001b[0mos\u001b[0m\u001b[1;33m.\u001b[0m\u001b[0mstat\u001b[0m\u001b[1;33m(\u001b[0m\u001b[0mfullname\u001b[0m\u001b[1;33m)\u001b[0m\u001b[1;33m\u001b[0m\u001b[1;33m\u001b[0m\u001b[0m\n\u001b[0m\u001b[0;32m     73\u001b[0m         \u001b[1;32mexcept\u001b[0m \u001b[0mOSError\u001b[0m\u001b[1;33m:\u001b[0m\u001b[1;33m\u001b[0m\u001b[1;33m\u001b[0m\u001b[0m\n\u001b[0;32m     74\u001b[0m             \u001b[0mcache\u001b[0m\u001b[1;33m.\u001b[0m\u001b[0mpop\u001b[0m\u001b[1;33m(\u001b[0m\u001b[0mfilename\u001b[0m\u001b[1;33m,\u001b[0m \u001b[1;32mNone\u001b[0m\u001b[1;33m)\u001b[0m\u001b[1;33m\u001b[0m\u001b[1;33m\u001b[0m\u001b[0m\n",
      "\u001b[1;31mKeyboardInterrupt\u001b[0m: "
     ]
    }
   ],
   "source": [
    "#사이즈에 오류값(size=2)이 있는 경우 사이즈를 랜덤하게 입력\n",
    "import random\n",
    "rand_size = [200,205,210,215,220,225,230,235,240,245,250] #GS여서 250까지만 제한\n",
    "for i in tqdm(range(len(Jordan_df_tmp))):\n",
    "    if Jordan_df_tmp['사이즈'][i] == 2:\n",
    "        Jordan_df_tmp['사이즈'][i] = random.choice(rand_size)"
   ]
  },
  {
   "cell_type": "code",
   "execution_count": 13,
   "id": "9f74d91c",
   "metadata": {},
   "outputs": [
    {
     "name": "stderr",
     "output_type": "stream",
     "text": [
      "100%|██████████████████████████████████████████████████████████████████████| 185847/185847 [00:01<00:00, 165194.60it/s]\n"
     ]
    }
   ],
   "source": [
    "Jordan_df_tmp['컬러']=Jordan_df_tmp['컬러'].apply(str) #컬러에 float변수가 존재하여 문자형으로 형변환\n",
    "\n",
    "#자주 등장하는 컬러로 색상정보 대체\n",
    "color_ex=['RED', 'ORANGE', 'STARFISH', 'YELLOW', 'GREEN', 'BLUE', 'CORAL', 'PINK', 'PURPLE','GREY', 'SILVER', 'BLACK', 'WHITE', 'MOCHA', 'STEALTH', 'SAIL', 'NAVY', 'BROWN', 'WHEAT', 'BORDEAUX']\n",
    "color_list=[]\n",
    "for color in tqdm(Jordan_df_tmp['컬러']):\n",
    "    # 구분자로 구분\n",
    "    color_list.append(re.split('[/-]', color.replace(' ','/')))\n",
    "\n",
    "filtered_color_list=[]\n",
    "for words in color_list:\n",
    "    filtered_words=[]\n",
    "    for word in words:\n",
    "        if word in color_ex:\n",
    "            filtered_words.append(word)\n",
    "    filtered_color_list.append(list(set(filtered_words))) #중복제거\n",
    "    \n",
    "Jordan_df_tmp['컬러테스트']=filtered_color_list\n",
    "\n",
    "#기존의 '컬러' 열을 '컬러테스트'열로 대체\n",
    "Jordan_df_tmp['컬러']=Jordan_df_tmp['컬러테스트']\n",
    "Jordan_df_tmp=Jordan_df_tmp.drop(columns='컬러테스트')"
   ]
  },
  {
   "cell_type": "code",
   "execution_count": 20,
   "id": "254f26b8",
   "metadata": {},
   "outputs": [],
   "source": [
    "color_test.to_csv('Data/크림_조던_제품거래량_전처리_최종.csv', index = False)"
   ]
  }
 ],
 "metadata": {
  "kernelspec": {
   "display_name": "Python 3 (ipykernel)",
   "language": "python",
   "name": "python3"
  },
  "language_info": {
   "codemirror_mode": {
    "name": "ipython",
    "version": 3
   },
   "file_extension": ".py",
   "mimetype": "text/x-python",
   "name": "python",
   "nbconvert_exporter": "python",
   "pygments_lexer": "ipython3",
   "version": "3.9.7"
  }
 },
 "nbformat": 4,
 "nbformat_minor": 5
}
